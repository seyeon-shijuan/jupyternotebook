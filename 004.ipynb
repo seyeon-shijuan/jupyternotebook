{
 "cells": [
  {
   "cell_type": "code",
   "execution_count": 5,
   "metadata": {},
   "outputs": [
    {
     "name": "stdout",
     "output_type": "stream",
     "text": [
      "good job2\n"
     ]
    }
   ],
   "source": [
    "a=25\n",
    "if a==10:\n",
    "    print('hello seyeon')\n",
    "elif a<20:\n",
    "    print('good job1')\n",
    "elif a<30:\n",
    "    print('good job2') #먼저 걸리는데이서만 된다.\n",
    "elif a<40:\n",
    "    print('good job3')\n",
    "elif a<50:\n",
    "    print('good job4')\n",
    "else:\n",
    "    print('else')"
   ]
  }
 ],
 "metadata": {
  "kernelspec": {
   "display_name": "Python 3",
   "language": "python",
   "name": "python3"
  },
  "language_info": {
   "codemirror_mode": {
    "name": "ipython",
    "version": 3
   },
   "file_extension": ".py",
   "mimetype": "text/x-python",
   "name": "python",
   "nbconvert_exporter": "python",
   "pygments_lexer": "ipython3",
   "version": "3.8.2"
  }
 },
 "nbformat": 4,
 "nbformat_minor": 4
}
