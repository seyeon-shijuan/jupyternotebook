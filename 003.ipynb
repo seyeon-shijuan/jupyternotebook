{
 "cells": [
  {
   "cell_type": "code",
   "execution_count": 8,
   "metadata": {},
   "outputs": [
    {
     "name": "stdout",
     "output_type": "stream",
     "text": [
      "hello seyeon 1\n",
      "hello seyeon 2\n",
      "hello seyeon 3\n",
      "hello seyeon 4\n",
      "hello seyeon 5\n",
      "hello seyeon 6\n"
     ]
    }
   ],
   "source": [
    "#2부\n",
    "#반복문(while, for), 조건문(if,elif,else)\n",
    "a=1\n",
    "while a<9:\n",
    "    print('hello seyeon',a)\n",
    "    if a>5:\n",
    "        break\n",
    "    a+=1\n",
    "else:\n",
    "    print('good job')"
   ]
  },
  {
   "cell_type": "code",
   "execution_count": 12,
   "metadata": {},
   "outputs": [
    {
     "name": "stdout",
     "output_type": "stream",
     "text": [
      "one\n",
      "two\n",
      "0\n",
      "1\n",
      "2\n",
      "3\n",
      "4\n",
      "5\n",
      "6\n",
      "7\n",
      "8\n",
      "9\n"
     ]
    }
   ],
   "source": [
    "l=[10,20,30,40]\n",
    "s={10,20,30,40,10,10,10}\n",
    "d={'one':1,'two':2}\n",
    "for i in d:\n",
    "    print(i)\n",
    "for i in range(10):\n",
    "    print(i)"
   ]
  },
  {
   "cell_type": "code",
   "execution_count": 17,
   "metadata": {},
   "outputs": [
    {
     "name": "stdout",
     "output_type": "stream",
     "text": [
      "<class 'range'>\n",
      "1 [0, 1, 2, 3, 4, 5, 6, 7, 8, 9]\n",
      "2 [5, 6, 7, 8, 9]\n",
      "3 [2, 4, 6, 8]\n",
      "4 [10, 9, 8, 7, 6]\n",
      "5 []\n"
     ]
    }
   ],
   "source": [
    "print(type(range(10)))\n",
    "print(1, list(range(10)))\n",
    "print(2, list(range(5,10)))\n",
    "print(3, list(range(2,10,2)))\n",
    "print(4, list(range(10, 5, -1)))\n",
    "print(5, list(range(-10)))"
   ]
  },
  {
   "cell_type": "code",
   "execution_count": 19,
   "metadata": {},
   "outputs": [
    {
     "name": "stdout",
     "output_type": "stream",
     "text": [
      "h\n",
      "e\n",
      "l\n",
      "l\n",
      "l\n",
      "o\n",
      " \n",
      "w\n",
      "o\n",
      "r\n",
      "l\n",
      "d\n"
     ]
    }
   ],
   "source": [
    "for i in 'helllo world':\n",
    "    print(i)"
   ]
  },
  {
   "cell_type": "code",
   "execution_count": 22,
   "metadata": {},
   "outputs": [
    {
     "name": "stdout",
     "output_type": "stream",
     "text": [
      "0\n",
      "1\n",
      "2\n",
      "3\n",
      "4\n",
      "5\n"
     ]
    }
   ],
   "source": [
    "for i in range(10):\n",
    "    print(i)\n",
    "    if i== 5:\n",
    "        break\n",
    "else:\n",
    "    print('good job')"
   ]
  },
  {
   "cell_type": "code",
   "execution_count": 36,
   "metadata": {},
   "outputs": [
    {
     "name": "stdout",
     "output_type": "stream",
     "text": [
      "[0, 1, 2, 3, 4, 5, 6, 7, 8, 9, 10, 11, 12, 13, 14, 15, 16, 17, 18, 19, 20, 21, 22, 23, 24, 25, 26, 27, 28, 29, 30, 31, 32, 33, 34, 35, 36, 37, 38, 39, 40, 41, 42, 43, 44, 45, 46, 47, 48, 49, 50, 51, 52, 53, 54, 55, 56, 57, 58, 59, 60, 61, 62, 63, 64, 65, 66, 67, 68, 69, 70, 71, 72, 73, 74, 75, 76, 77, 78, 79, 80, 81, 82, 83, 84, 85, 86, 87, 88, 89, 90, 91, 92, 93, 94, 95, 96, 97, 98, 99, 100]\n",
      "[0, 1, 2, 3, 4, 5, 6, 7, 8, 9]\n",
      "['2X1=2', '2X2=4', '2X3=6', '2X4=8', '2X5=10', '2X6=12', '2X7=14', '2X8=16', '2X9=18', '3X1=3', '3X2=6', '3X3=9', '3X4=12', '3X5=15', '3X6=18', '3X7=21', '3X8=24', '3X9=27', '4X1=4', '4X2=8', '4X3=12', '4X4=16', '4X5=20', '4X6=24', '4X7=28', '4X8=32', '4X9=36', '5X1=5', '5X2=10', '5X3=15', '5X4=20', '5X5=25', '5X6=30', '5X7=35', '5X8=40', '5X9=45', '6X1=6', '6X2=12', '6X3=18', '6X4=24', '6X5=30', '6X6=36', '6X7=42', '6X8=48', '6X9=54', '7X1=7', '7X2=14', '7X3=21', '7X4=28', '7X5=35', '7X6=42', '7X7=49', '7X8=56', '7X9=63', '8X1=8', '8X2=16', '8X3=24', '8X4=32', '8X5=40', '8X6=48', '8X7=56', '8X8=64', '8X9=72', '9X1=9', '9X2=18', '9X3=27', '9X4=36', '9X5=45', '9X6=54', '9X7=63', '9X8=72', '9X9=81']\n"
     ]
    }
   ],
   "source": [
    "l=list(range(101))\n",
    "print(l)\n",
    "ll=[i for i in range(10)]\n",
    "print(ll)\n",
    "# for i in range(2,10):\n",
    "#     for j in range(1,10):\n",
    "#         print('{}X{}={}'.format(i,j,i*j))\n",
    "lll=['{}X{}={}'.format(i,j,i*j) for i in range(2,10) for j in range(1,10)]\n",
    "print(lll)"
   ]
  },
  {
   "cell_type": "code",
   "execution_count": 40,
   "metadata": {},
   "outputs": [
    {
     "name": "stdout",
     "output_type": "stream",
     "text": [
      "30\n",
      "1 10\n",
      "2 20\n",
      "3 30\n",
      "4 40\n"
     ]
    }
   ],
   "source": [
    "#다중인자리스트\n",
    "l=[(1,10),(2,20),(3,30),(4,40)]\n",
    "print(l[2][1])\n",
    "for i, j in l:\n",
    "    print(i,j) #이렇게하면 튜플 껍데기가 벗겨진다."
   ]
  },
  {
   "cell_type": "code",
   "execution_count": 42,
   "metadata": {},
   "outputs": [
    {
     "name": "stdout",
     "output_type": "stream",
     "text": [
      "1 100\n",
      "2 200\n",
      "3 300\n",
      "4 400\n",
      "5 500\n",
      "6 600\n",
      "7 700\n",
      "8 800\n",
      "9 900\n"
     ]
    }
   ],
   "source": [
    "for i, j in enumerate(range(100,1000,100),1):\n",
    "    print(i,j)"
   ]
  },
  {
   "cell_type": "code",
   "execution_count": 44,
   "metadata": {},
   "outputs": [],
   "source": [
    "for i in range(10):\n",
    "    pass #아무것도 안한다는 뜻"
   ]
  },
  {
   "cell_type": "code",
   "execution_count": null,
   "metadata": {},
   "outputs": [],
   "source": []
  },
  {
   "cell_type": "code",
   "execution_count": null,
   "metadata": {},
   "outputs": [],
   "source": []
  },
  {
   "cell_type": "code",
   "execution_count": null,
   "metadata": {},
   "outputs": [],
   "source": []
  },
  {
   "cell_type": "code",
   "execution_count": null,
   "metadata": {},
   "outputs": [],
   "source": []
  }
 ],
 "metadata": {
  "kernelspec": {
   "display_name": "Python 3",
   "language": "python",
   "name": "python3"
  },
  "language_info": {
   "codemirror_mode": {
    "name": "ipython",
    "version": 3
   },
   "file_extension": ".py",
   "mimetype": "text/x-python",
   "name": "python",
   "nbconvert_exporter": "python",
   "pygments_lexer": "ipython3",
   "version": "3.8.2"
  }
 },
 "nbformat": 4,
 "nbformat_minor": 4
}
